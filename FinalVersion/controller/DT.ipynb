{
  "cells": [
    {
      "cell_type": "code",
      "execution_count": 1,
      "metadata": {
        "id": "sVJKy7T01GPn"
      },
      "outputs": [],
      "source": [
        "from datetime import datetime\n",
        "\n",
        "import pandas as pd\n",
        "from sklearn.model_selection import train_test_split\n",
        "from sklearn.ensemble import RandomForestClassifier\n",
        "from sklearn.metrics import classification_report, confusion_matrix, accuracy_score"
      ]
    },
    {
      "cell_type": "code",
      "execution_count": 2,
      "metadata": {},
      "outputs": [],
      "source": [
        "df=pd.read_csv(\"DDos_and_Normal_Traffic_Dataset.csv\")"
      ]
    },
    {
      "cell_type": "code",
      "execution_count": 3,
      "metadata": {},
      "outputs": [
        {
          "data": {
            "text/plain": [
              "(436697, 28)"
            ]
          },
          "execution_count": 3,
          "metadata": {},
          "output_type": "execute_result"
        }
      ],
      "source": [
        "df.shape"
      ]
    },
    {
      "cell_type": "code",
      "execution_count": 5,
      "metadata": {},
      "outputs": [
        {
          "data": {
            "text/html": [
              "<div>\n",
              "<style scoped>\n",
              "    .dataframe tbody tr th:only-of-type {\n",
              "        vertical-align: middle;\n",
              "    }\n",
              "\n",
              "    .dataframe tbody tr th {\n",
              "        vertical-align: top;\n",
              "    }\n",
              "\n",
              "    .dataframe thead th {\n",
              "        text-align: right;\n",
              "    }\n",
              "</style>\n",
              "<table border=\"1\" class=\"dataframe\">\n",
              "  <thead>\n",
              "    <tr style=\"text-align: right;\">\n",
              "      <th></th>\n",
              "      <th>timestamp</th>\n",
              "      <th>datapath_id</th>\n",
              "      <th>flow_id</th>\n",
              "      <th>ip_src</th>\n",
              "      <th>tp_src</th>\n",
              "      <th>ip_dst</th>\n",
              "      <th>tp_dst</th>\n",
              "      <th>ip_proto</th>\n",
              "      <th>icmp_code</th>\n",
              "      <th>icmp_type</th>\n",
              "      <th>...</th>\n",
              "      <th>packet_count_per_nsecond</th>\n",
              "      <th>byte_count_per_second</th>\n",
              "      <th>byte_count_per_nsecond</th>\n",
              "      <th>avg_packet_size</th>\n",
              "      <th>flow_duration_total</th>\n",
              "      <th>idle_mean</th>\n",
              "      <th>idle_std</th>\n",
              "      <th>idle_max</th>\n",
              "      <th>idle_min</th>\n",
              "      <th>label</th>\n",
              "    </tr>\n",
              "  </thead>\n",
              "  <tbody>\n",
              "    <tr>\n",
              "      <th>0</th>\n",
              "      <td>1.719371e+09</td>\n",
              "      <td>1</td>\n",
              "      <td>192.168.0.15050192.168.1.4532686</td>\n",
              "      <td>192.168.0.1</td>\n",
              "      <td>5050</td>\n",
              "      <td>192.168.1.4</td>\n",
              "      <td>53268</td>\n",
              "      <td>6</td>\n",
              "      <td>-1</td>\n",
              "      <td>-1</td>\n",
              "      <td>...</td>\n",
              "      <td>8.863929e-05</td>\n",
              "      <td>2.635596e+06</td>\n",
              "      <td>5.850380e-03</td>\n",
              "      <td>66.002104</td>\n",
              "      <td>2.901</td>\n",
              "      <td>0.000000</td>\n",
              "      <td>0.0</td>\n",
              "      <td>0.000000</td>\n",
              "      <td>0.000000</td>\n",
              "      <td>0</td>\n",
              "    </tr>\n",
              "    <tr>\n",
              "      <th>1</th>\n",
              "      <td>1.719371e+09</td>\n",
              "      <td>1</td>\n",
              "      <td>192.168.1.453268192.168.0.150506</td>\n",
              "      <td>192.168.1.4</td>\n",
              "      <td>53268</td>\n",
              "      <td>192.168.0.1</td>\n",
              "      <td>5050</td>\n",
              "      <td>6</td>\n",
              "      <td>-1</td>\n",
              "      <td>-1</td>\n",
              "      <td>...</td>\n",
              "      <td>1.384392e-04</td>\n",
              "      <td>3.108656e+09</td>\n",
              "      <td>6.877558e+00</td>\n",
              "      <td>49679.278252</td>\n",
              "      <td>2.904</td>\n",
              "      <td>0.000000</td>\n",
              "      <td>0.0</td>\n",
              "      <td>0.000000</td>\n",
              "      <td>0.000000</td>\n",
              "      <td>0</td>\n",
              "    </tr>\n",
              "    <tr>\n",
              "      <th>2</th>\n",
              "      <td>1.719371e+09</td>\n",
              "      <td>2</td>\n",
              "      <td>192.168.0.15050192.168.1.4532686</td>\n",
              "      <td>192.168.0.1</td>\n",
              "      <td>5050</td>\n",
              "      <td>192.168.1.4</td>\n",
              "      <td>53268</td>\n",
              "      <td>6</td>\n",
              "      <td>-1</td>\n",
              "      <td>-1</td>\n",
              "      <td>...</td>\n",
              "      <td>9.024181e-05</td>\n",
              "      <td>2.635596e+06</td>\n",
              "      <td>5.956149e-03</td>\n",
              "      <td>66.002104</td>\n",
              "      <td>2.885</td>\n",
              "      <td>0.000815</td>\n",
              "      <td>0.0</td>\n",
              "      <td>0.000815</td>\n",
              "      <td>0.000815</td>\n",
              "      <td>0</td>\n",
              "    </tr>\n",
              "    <tr>\n",
              "      <th>3</th>\n",
              "      <td>1.719371e+09</td>\n",
              "      <td>2</td>\n",
              "      <td>192.168.1.453268192.168.0.150506</td>\n",
              "      <td>192.168.1.4</td>\n",
              "      <td>53268</td>\n",
              "      <td>192.168.0.1</td>\n",
              "      <td>5050</td>\n",
              "      <td>6</td>\n",
              "      <td>-1</td>\n",
              "      <td>-1</td>\n",
              "      <td>...</td>\n",
              "      <td>1.372259e-04</td>\n",
              "      <td>3.108656e+09</td>\n",
              "      <td>6.817228e+00</td>\n",
              "      <td>49678.882078</td>\n",
              "      <td>2.912</td>\n",
              "      <td>0.000815</td>\n",
              "      <td>0.0</td>\n",
              "      <td>0.000815</td>\n",
              "      <td>0.000815</td>\n",
              "      <td>0</td>\n",
              "    </tr>\n",
              "    <tr>\n",
              "      <th>4</th>\n",
              "      <td>1.719371e+09</td>\n",
              "      <td>2</td>\n",
              "      <td>192.168.1.40192.168.1.501</td>\n",
              "      <td>192.168.1.4</td>\n",
              "      <td>0</td>\n",
              "      <td>192.168.1.5</td>\n",
              "      <td>0</td>\n",
              "      <td>1</td>\n",
              "      <td>0</td>\n",
              "      <td>8</td>\n",
              "      <td>...</td>\n",
              "      <td>2.202643e-09</td>\n",
              "      <td>9.800000e+01</td>\n",
              "      <td>2.158590e-07</td>\n",
              "      <td>98.000000</td>\n",
              "      <td>2.908</td>\n",
              "      <td>0.000000</td>\n",
              "      <td>0.0</td>\n",
              "      <td>0.000000</td>\n",
              "      <td>0.000000</td>\n",
              "      <td>0</td>\n",
              "    </tr>\n",
              "  </tbody>\n",
              "</table>\n",
              "<p>5 rows × 28 columns</p>\n",
              "</div>"
            ],
            "text/plain": [
              "      timestamp  datapath_id                           flow_id       ip_src  \\\n",
              "0  1.719371e+09            1  192.168.0.15050192.168.1.4532686  192.168.0.1   \n",
              "1  1.719371e+09            1  192.168.1.453268192.168.0.150506  192.168.1.4   \n",
              "2  1.719371e+09            2  192.168.0.15050192.168.1.4532686  192.168.0.1   \n",
              "3  1.719371e+09            2  192.168.1.453268192.168.0.150506  192.168.1.4   \n",
              "4  1.719371e+09            2         192.168.1.40192.168.1.501  192.168.1.4   \n",
              "\n",
              "   tp_src       ip_dst  tp_dst  ip_proto  icmp_code  icmp_type  ...  \\\n",
              "0    5050  192.168.1.4   53268         6         -1         -1  ...   \n",
              "1   53268  192.168.0.1    5050         6         -1         -1  ...   \n",
              "2    5050  192.168.1.4   53268         6         -1         -1  ...   \n",
              "3   53268  192.168.0.1    5050         6         -1         -1  ...   \n",
              "4       0  192.168.1.5       0         1          0          8  ...   \n",
              "\n",
              "   packet_count_per_nsecond  byte_count_per_second  byte_count_per_nsecond  \\\n",
              "0              8.863929e-05           2.635596e+06            5.850380e-03   \n",
              "1              1.384392e-04           3.108656e+09            6.877558e+00   \n",
              "2              9.024181e-05           2.635596e+06            5.956149e-03   \n",
              "3              1.372259e-04           3.108656e+09            6.817228e+00   \n",
              "4              2.202643e-09           9.800000e+01            2.158590e-07   \n",
              "\n",
              "   avg_packet_size  flow_duration_total  idle_mean  idle_std  idle_max  \\\n",
              "0        66.002104                2.901   0.000000       0.0  0.000000   \n",
              "1     49679.278252                2.904   0.000000       0.0  0.000000   \n",
              "2        66.002104                2.885   0.000815       0.0  0.000815   \n",
              "3     49678.882078                2.912   0.000815       0.0  0.000815   \n",
              "4        98.000000                2.908   0.000000       0.0  0.000000   \n",
              "\n",
              "   idle_min  label  \n",
              "0  0.000000      0  \n",
              "1  0.000000      0  \n",
              "2  0.000815      0  \n",
              "3  0.000815      0  \n",
              "4  0.000000      0  \n",
              "\n",
              "[5 rows x 28 columns]"
            ]
          },
          "execution_count": 5,
          "metadata": {},
          "output_type": "execute_result"
        }
      ],
      "source": [
        "df.head(5)"
      ]
    },
    {
      "cell_type": "code",
      "execution_count": 6,
      "metadata": {
        "id": "DSGAcKK11Ihf"
      },
      "outputs": [],
      "source": [
        "# Xóa các cột không cần thiết hoặc không phù hợp cho mô hình\n",
        "df = df.drop(['timestamp', 'datapath_id', 'flow_id', 'ip_src', 'tp_src', 'ip_dst', 'tp_dst', 'ip_proto', 'icmp_code', 'icmp_type'], axis=1)\n",
        "\n",
        "# Tách dữ liệu thành features và labels\n",
        "X = df.drop('label', axis=1)\n",
        "y = df['label']"
      ]
    },
    {
      "cell_type": "code",
      "execution_count": 7,
      "metadata": {
        "id": "-eusREdu1JsX"
      },
      "outputs": [],
      "source": [
        "# Chia dữ liệu thành tập huấn luyện và tập kiểm tra\n",
        "X_train, X_test, y_train, y_test = train_test_split(X, y, test_size=0.2, random_state=42)"
      ]
    },
    {
      "cell_type": "code",
      "execution_count": 8,
      "metadata": {
        "id": "x51jkkRb16Cv"
      },
      "outputs": [
        {
          "name": "stdout",
          "output_type": "stream",
          "text": [
            "Confusion Matrix:\n",
            " [[29359  2254]\n",
            " [  516 55211]]\n",
            "Classification Report:\n",
            "               precision    recall  f1-score   support\n",
            "\n",
            "           0       0.98      0.93      0.95     31613\n",
            "           1       0.96      0.99      0.98     55727\n",
            "\n",
            "    accuracy                           0.97     87340\n",
            "   macro avg       0.97      0.96      0.97     87340\n",
            "weighted avg       0.97      0.97      0.97     87340\n",
            "\n",
            "Accuracy Score: 0.9682848637508588\n"
          ]
        }
      ],
      "source": [
        "from sklearn.tree import DecisionTreeClassifier\n",
        "model_dt = DecisionTreeClassifier(criterion='entropy', random_state=0)\n",
        "model_dt.fit(X_train, y_train)\n",
        "# Dự đoán trên tập kiểm tra\n",
        "y_pred_dt = model_dt.predict(X_test)\n",
        "\n",
        "# Đánh giá mô hình\n",
        "print(\"Confusion Matrix:\\n\", confusion_matrix(y_test, y_pred_dt))\n",
        "print(\"Classification Report:\\n\", classification_report(y_test, y_pred_dt))\n",
        "print(\"Accuracy Score:\", accuracy_score(y_test, y_pred_dt))"
      ]
    }
  ],
  "metadata": {
    "colab": {
      "provenance": []
    },
    "kernelspec": {
      "display_name": "Python 3",
      "name": "python3"
    },
    "language_info": {
      "codemirror_mode": {
        "name": "ipython",
        "version": 3
      },
      "file_extension": ".py",
      "mimetype": "text/x-python",
      "name": "python",
      "nbconvert_exporter": "python",
      "pygments_lexer": "ipython3",
      "version": "3.10.0"
    }
  },
  "nbformat": 4,
  "nbformat_minor": 0
}
